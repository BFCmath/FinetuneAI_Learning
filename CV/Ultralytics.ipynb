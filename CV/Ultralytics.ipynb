{
 "cells": [
  {
   "cell_type": "markdown",
   "metadata": {},
   "source": [
    "# Finetune YOLO using Ultralytics"
   ]
  },
  {
   "cell_type": "markdown",
   "metadata": {
    "vscode": {
     "languageId": "plaintext"
    }
   },
   "source": [
    "## Installation"
   ]
  },
  {
   "cell_type": "code",
   "execution_count": null,
   "metadata": {},
   "outputs": [],
   "source": [
    "!pip install ultralytics"
   ]
  },
  {
   "cell_type": "markdown",
   "metadata": {
    "vscode": {
     "languageId": "plaintext"
    }
   },
   "source": [
    "## Datasets"
   ]
  },
  {
   "cell_type": "markdown",
   "metadata": {
    "vscode": {
     "languageId": "plaintext"
    }
   },
   "source": [
    "### Directory Structure"
   ]
  },
  {
   "cell_type": "markdown",
   "metadata": {
    "vscode": {
     "languageId": "plaintext"
    }
   },
   "source": [
    "```\n",
    "dataset/\n",
    "├── images/\n",
    "│   ├── train/\n",
    "│   └── val/\n",
    "└── labels/\n",
    "    ├── train/\n",
    "    └── val/\n",
    "```"
   ]
  },
  {
   "cell_type": "markdown",
   "metadata": {
    "vscode": {
     "languageId": "plaintext"
    }
   },
   "source": [
    "### Yaml file"
   ]
  },
  {
   "cell_type": "markdown",
   "metadata": {},
   "source": [
    "```yaml\n",
    "path: ../dataset  # dataset root dir\n",
    "train: images/train  # train images (relative to 'path') \n",
    "val: images/val  # val images (relative to 'path')\n",
    "test:  # test images (optional)\n",
    "\n",
    "# Classes\n",
    "nc: 2  # number of classes\n",
    "names: ['class1', 'class2']  # class names\n",
    "```"
   ]
  },
  {
   "cell_type": "markdown",
   "metadata": {},
   "source": [
    "### Label format"
   ]
  },
  {
   "cell_type": "markdown",
   "metadata": {},
   "source": [
    "```\n",
    "<class-index> <x-center> <y-center> <width> <height>\n",
    "```"
   ]
  },
  {
   "cell_type": "markdown",
   "metadata": {},
   "source": [
    "+ `<class-index>`: The index of the class (0 or 1 in your case).\n",
    "\n",
    "+ `<x-center>`, `<y-center>`, `<width>`, `<height>`: These are the bounding box coordinates, normalized by the image width and height (values between 0 and 1)."
   ]
  },
  {
   "cell_type": "markdown",
   "metadata": {
    "vscode": {
     "languageId": "plaintext"
    }
   },
   "source": [
    "## Using Python"
   ]
  },
  {
   "cell_type": "markdown",
   "metadata": {},
   "source": [
    "### Fine tuning"
   ]
  },
  {
   "cell_type": "code",
   "execution_count": null,
   "metadata": {},
   "outputs": [],
   "source": [
    "from ultralytics import YOLO\n",
    "\n",
    "# Load a pretrained model (recommended for training)\n",
    "model = YOLO('yolov8n.pt')\n",
    "\n",
    "# Train the model\n",
    "results = model.train(\n",
    "    data = 'data.yaml',\n",
    "    epochs = 100,\n",
    "    batch = 32,\n",
    "    imgsz = 1024,\n",
    "    optimizer = 'Adam',\n",
    "    cos_lr = True,\n",
    "    dropout = 0.2,\n",
    "    device = [0, 1]\n",
    ")"
   ]
  },
  {
   "cell_type": "markdown",
   "metadata": {},
   "source": [
    "### Inference"
   ]
  },
  {
   "cell_type": "code",
   "execution_count": null,
   "metadata": {},
   "outputs": [],
   "source": [
    "# Creating best-weighted model\n",
    "bestModel = YOLO('/kaggle/working/runs/detect/train/weights/best.pt')\n",
    "# Making predictions on test set\n",
    "pred = bestModel.predict(\n",
    "    source = '/kaggle/input/data/test',\n",
    "    imgsz = 1024,\n",
    "    conf = 0.65,\n",
    "    iou = 0.65,\n",
    "    save_txt = True,\n",
    "    save_conf = True\n",
    ")"
   ]
  },
  {
   "cell_type": "markdown",
   "metadata": {},
   "source": [
    "The results are saved to txts file in /kaggle/working/runs/detect/predict/labels"
   ]
  },
  {
   "cell_type": "markdown",
   "metadata": {},
   "source": [
    "## Using command line"
   ]
  },
  {
   "cell_type": "markdown",
   "metadata": {},
   "source": [
    "### Fine tuning"
   ]
  },
  {
   "cell_type": "markdown",
   "metadata": {},
   "source": [
    "```\n",
    "yolo task=detect    mode=train    model=yolov8n.pt      args\n",
    "          ↑             ↑                 ↑               ↑\n",
    "      what to do     train/val        pretrained      arguments\n",
    "                    predict/export      weights\n",
    "```"
   ]
  },
  {
   "cell_type": "code",
   "execution_count": null,
   "metadata": {},
   "outputs": [],
   "source": [
    "!yolo train model=yolov8n.pt data=data.yaml epochs=100 imgsz=640"
   ]
  },
  {
   "cell_type": "markdown",
   "metadata": {},
   "source": [
    "### Inference"
   ]
  },
  {
   "cell_type": "code",
   "execution_count": null,
   "metadata": {},
   "outputs": [],
   "source": [
    "!yolo mode=predict model=best.pt source=\"/kaggle/input/data/test\" conf=0.25"
   ]
  }
 ],
 "metadata": {
  "kernelspec": {
   "display_name": "base",
   "language": "python",
   "name": "python3"
  },
  "language_info": {
   "codemirror_mode": {
    "name": "ipython",
    "version": 3
   },
   "file_extension": ".py",
   "mimetype": "text/x-python",
   "name": "python",
   "nbconvert_exporter": "python",
   "pygments_lexer": "ipython3",
   "version": "3.11.9"
  }
 },
 "nbformat": 4,
 "nbformat_minor": 2
}

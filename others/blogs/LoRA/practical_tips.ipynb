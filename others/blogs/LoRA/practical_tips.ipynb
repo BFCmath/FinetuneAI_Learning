{
 "cells": [
  {
   "cell_type": "markdown",
   "metadata": {},
   "source": [
    "# Practical Tips for Finetuning LLMs Using LoRA (Low-Rank Adaptation)\n",
    "Link [here](https://magazine.sebastianraschka.com/p/practical-tips-for-finetuning-llms)"
   ]
  }
 ],
 "metadata": {
  "language_info": {
   "name": "python"
  }
 },
 "nbformat": 4,
 "nbformat_minor": 2
}

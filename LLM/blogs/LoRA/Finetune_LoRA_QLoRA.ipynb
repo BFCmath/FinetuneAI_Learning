{
 "cells": [
  {
   "cell_type": "markdown",
   "metadata": {},
   "source": [
    "# Finetuning LLMs with LoRA and QLoRA: Insights from Hundreds of Experiments\n",
    "Link [here](https://lightning.ai/pages/community/lora-insights/)\n"
   ]
  },
  {
   "cell_type": "markdown",
   "metadata": {
    "vscode": {
     "languageId": "plaintext"
    }
   },
   "source": [
    "https://civitai.com/articles/3105/essential-to-advanced-guide-to-training-a-lora"
   ]
  }
 ],
 "metadata": {
  "language_info": {
   "name": "python"
  }
 },
 "nbformat": 4,
 "nbformat_minor": 2
}
